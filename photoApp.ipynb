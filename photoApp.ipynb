{
 "cells": [
  {
   "cell_type": "code",
   "execution_count": 2,
   "metadata": {},
   "source": [
    "# boto - python interface for AWS\n",
    "import boto3\n",
    "# check the above by displaying all S3 buckets you have\n",
    "s3 = boto3.resource('s3')\n",
    "for bucket in s3.buckets.all():\n",
    "    print(bucket.name)"
   ]
  },
  {
   "cell_type": "code",
   "execution_count": 6,
   "metadata": {},
   "outputs": [
    {
     "name": "stdout",
     "output_type": "stream",
     "text": [
      "  % Total    % Received % Xferd  Average Speed   Time    Time     Time  Current\n",
      "                                 Dload  Upload   Total   Spent    Left  Speed\n",
      "100  1069  100  1069    0     0    288      0  0:00:03  0:00:03 --:--:--   288\n"
     ]
    }
   ],
   "source": [
    "import urllib2\n",
    "import json\n",
    "import time\n",
    "\n",
    "# query string parameter values. Dummy value for timestamp. Assigning query = Beach to search all Beach pictures\n",
    "ts = 20\n",
    "query = \"Beach\"\n",
    "\n",
    "# Query\n",
    "#url = \"your api gateway URL with query string parameters - the keys from the dynamo DB table\"\n",
    "\n",
    "url = \"https://blahblahblah.execute-api.us-west-2.amazonaws.com/prod?pkey=%s&skey=%s\" %  (query, ts)\n",
    "!curl \"$url\" > out\n",
    "\n"
   ]
  },
  {
   "cell_type": "code",
   "execution_count": 7,
   "metadata": {},
   "outputs": [
    {
     "name": "stdout",
     "output_type": "stream",
     "text": [
      "[u'{\"city\": \"Kihei\", \"metadata\": [\"Beach\", \"Coast\", \"Outdoors\", \"Sea\", \"Water\"], \"ts\": 1508943301, \"img\": \"images/Kihei_coast2.jpg\", \"toplabel\": \"Beach\"}', u'{\"city\": \"Kihei\", \"metadata\": [\"Beach\", \"Coast\", \"Outdoors\", \"Sea\", \"Water\"], \"ts\": 1508944537, \"img\": \"images/IMG_1637.JPG\", \"toplabel\": \"Beach\"}', u'{\"city\": \"kahului\", \"metadata\": [\"Beach\", \"Coast\", \"Outdoors\", \"Sea\", \"Water\"], \"ts\": 1508949245, \"img\": \"images/IMG_1476.JPG\", \"toplabel\": \"Beach\"}', u'{\"city\": \"kahului\", \"metadata\": [\"Beach\", \"Coast\", \"Outdoors\", \"Sea\", \"Water\"], \"ts\": 1508949253, \"img\": \"images/IMG_8474.JPG\", \"toplabel\": \"Beach\"}', u'{\"city\": \"miami\", \"metadata\": [\"Beach\", \"Coast\", \"Outdoors\", \"Sea\", \"Water\"], \"ts\": 1508949831, \"img\": \"images/IMG_8346.JPG\", \"toplabel\": \"Beach\"}', u'{\"city\": \"oranjestad\", \"metadata\": [\"Beach\", \"Coast\", \"Outdoors\", \"Sea\", \"Water\"], \"ts\": 1508949836, \"img\": \"images/IMG_8422.JPG\", \"toplabel\": \"Beach\"}']\n"
     ]
    }
   ],
   "source": [
    "response = json.load(open('out', 'r'))\n",
    "print response\n",
    "\n",
    "from geopy.geocoders import Nominatim\n",
    "geolocator = Nominatim()\n",
    "\n",
    "locations = []\n",
    "for r in response:\n",
    "    resp = json.loads(r)\n",
    "    city = resp['city']\n",
    "    if city == \"nocity\":\n",
    "        continue \n",
    "    location = geolocator.geocode(city)\n",
    "    if location:\n",
    "        locations.append((location.latitude, location.longitude))\n",
    "print locations[0:10]"
   ]
  },
  {
   "cell_type": "code",
   "execution_count": 34,
   "metadata": {
    "collapsed": true
   },
   "outputs": [],
   "source": [
    "from IPython.display import display, HTML\n",
    "import folium\n",
    "\n",
    "# Create an empty map with focus on SF\n",
    "SF_COORDINATES = (37.76, -122.45)\n",
    "m = folium.Map(location=SF_COORDINATES, zoom_start=5)\n",
    "\n",
    "marker_cluster = folium.MarkerCluster().add_to(m)\n",
    "\n",
    "for loc in locations:\n",
    "    folium.Marker(\n",
    "        location=loc,\n",
    "        icon=folium.Icon(color='green', icon='ok-sign'),\n",
    "    ).add_to(marker_cluster)\n",
    "\n",
    "\n",
    "m.save('photos_city.html')"
   ]
  },
  {
   "cell_type": "code",
   "execution_count": 35,
   "metadata": {},
   "outputs": [
    {
     "data": {
      "text/html": [
       "<iframe width=\"800\" height=\"350\" frameborder=\"0\" scrolling=\"no\" marginheight=\"10\" marginwidth=\"10\" src=\"photos_city.html\"></iframe>"
      ],
      "text/plain": [
       "<IPython.core.display.HTML object>"
      ]
     },
     "execution_count": 35,
     "metadata": {},
     "output_type": "execute_result"
    }
   ],
   "source": [
    "HTML('<iframe width=\"800\" height=\"350\" frameborder=\"0\" scrolling=\"no\" marginheight=\"10\" marginwidth=\"10\" src=\"photos_city.html\"></iframe>')"
   ]
  },
  {
   "cell_type": "code",
   "execution_count": null,
   "metadata": {
    "collapsed": true
   },
   "outputs": [],
   "source": []
  }
 ],
 "metadata": {
  "kernelspec": {
   "display_name": "Python 2",
   "language": "python",
   "name": "python2"
  },
  "language_info": {
   "codemirror_mode": {
    "name": "ipython",
    "version": 2
   },
   "file_extension": ".py",
   "mimetype": "text/x-python",
   "name": "python",
   "nbconvert_exporter": "python",
   "pygments_lexer": "ipython2",
   "version": "2.7.6"
  }
 },
 "nbformat": 4,
 "nbformat_minor": 2
}
